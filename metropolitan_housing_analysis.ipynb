{
 "cells": [
  {
   "cell_type": "markdown",
   "id": "69c15a5c-60f5-4898-a304-fcf70577d49b",
   "metadata": {},
   "source": [
    "# Metropolitan Housing Price Analysis"
   ]
  },
  {
   "cell_type": "markdown",
   "id": "c68d0020-2bf4-4aeb-b5e5-7a222f8d7428",
   "metadata": {},
   "source": [
    "#### Parker Davie\n",
    "#### ISYE 6414"
   ]
  },
  {
   "cell_type": "code",
   "execution_count": 1,
   "id": "07d2bda2-1e69-43e4-9c6b-a858fc4a9f11",
   "metadata": {},
   "outputs": [],
   "source": [
    "#Imports\n",
    "import pandas as pd\n",
    "from sklearn.ensemble import RandomForestRegressor\n",
    "from sklearn.model_selection import train_test_split, cross_val_score, GridSearchCV, RandomizedSearchCV\n",
    "from sklearn.metrics import r2_score, mean_squared_error, mean_absolute_error\n",
    "import matplotlib.pyplot as plt\n",
    "import seaborn as sns\n",
    "import numpy as np\n",
    "from sklearn.inspection import permutation_importance\n",
    "from sklearn.linear_model import LinearRegression\n",
    "from scipy.stats import skew, randint"
   ]
  },
  {
   "cell_type": "markdown",
   "id": "f9e10d42-beae-4043-84ea-0ba5ebde12d3",
   "metadata": {},
   "source": [
    "The data was procured through Zillow, the National Zoning and Land Use Database, and Urban Institute. The data is grouped by core-based statistical areas (CBSA) in the US. CityNames is used as a crosswalk for Zillow, which uses RegionID, and the others, which use cbsa10. "
   ]
  },
  {
   "cell_type": "code",
   "execution_count": 2,
   "id": "04da7720-b567-4035-9b17-696503fe263e",
   "metadata": {},
   "outputs": [
    {
     "name": "stdout",
     "output_type": "stream",
     "text": [
      "   RegionID  SizeRank        RegionName  Zillow_Home_Value cbsa10  responses  \\\n",
      "0    394913         1      New York, NY       6.951709e+05  35620        108   \n",
      "1    753899         2   Los Angeles, CA       1.002067e+06  31080         48   \n",
      "2    394463         3       Chicago, IL       3.368000e+05  16980        106   \n",
      "3    394514         4        Dallas, TX       3.708453e+05  19100         48   \n",
      "4    394692         5       Houston, TX       3.093948e+05  26420         20   \n",
      "5    395209         6    Washington, DC       6.012010e+05  47900         15   \n",
      "6    394974         7  Philadelphia, PA       3.685094e+05  37980         59   \n",
      "7    394856         8         Miami, FL       5.700576e+05  33100         36   \n",
      "8    394347         9       Atlanta, GA       3.823985e+05  12060         30   \n",
      "9    394404        10        Boston, MA       7.258756e+05  14460         57   \n",
      "\n",
      "   restrict_sf_permit  restrict_mf_permit  limit_sf_units  limit_mf_units  \\\n",
      "0            0.009259            0.009259        0.009259        0.009259   \n",
      "1            0.000000            0.000000        0.000000        0.000000   \n",
      "2            0.000000            0.000000        0.000000        0.000000   \n",
      "3            0.000000            0.000000        0.020833        0.020833   \n",
      "4            0.000000            0.000000        0.000000        0.000000   \n",
      "5            0.000000            0.000000        0.000000        0.000000   \n",
      "6            0.016949            0.016949        0.016949        0.016949   \n",
      "7            0.000000            0.000000        0.000000        0.000000   \n",
      "8            0.000000            0.000000        0.000000        0.000000   \n",
      "9            0.052632            0.052632        0.070175        0.070175   \n",
      "\n",
      "   ...  height_st_median  height_st_mode  parking_median  parking_mode  \\\n",
      "0  ...          3.033333        3.885714        1.705896      1.676274   \n",
      "1  ...          2.239362        2.244681        1.647917      1.354167   \n",
      "2  ...          2.611735        2.408163        1.862406      1.591509   \n",
      "3  ...          3.536458        4.364583        1.803438      1.531250   \n",
      "4  ...          2.394737        2.184211        2.828947      2.513158   \n",
      "5  ...          4.400000        4.200000        2.344667      1.433333   \n",
      "6  ...          2.887755        3.234694        1.736017      1.423729   \n",
      "7  ...          3.573529        2.588235        1.843056      1.280556   \n",
      "8  ...          3.760000        3.880000        1.955000      1.683333   \n",
      "9  ...          5.417045        6.379545        1.913947      1.766667   \n",
      "\n",
      "   zri_median  CBSA_HSG_20  CBSA_MED_HH_INC_19  CBSA_BA_PLUS_19    POP_19  \\\n",
      "0    2.341909    7982384.0             78773.0         0.403730  16602150   \n",
      "1    2.533206    4721766.0             72998.0         0.344678  13099903   \n",
      "2    1.762997    3943945.0             71770.0         0.380177   8896018   \n",
      "3    2.217050    2947189.0             70281.0         0.351932   6823568   \n",
      "4    1.227829    2740182.0             67516.0         0.328380   4368866   \n",
      "5    2.656360    2500128.0            103751.0         0.509428   5305836   \n",
      "6    2.260519    2586947.0             72343.0         0.378535   3399410   \n",
      "7    2.612834    2641002.0             56775.0         0.323105   5317816   \n",
      "8    2.413685    2414292.0             68316.0         0.385830   2682054   \n",
      "9    2.296620    2032387.0             90333.0         0.480987   3512110   \n",
      "\n",
      "    AREA_SQM_20  \n",
      "0  7.478465e+09  \n",
      "1  5.923669e+09  \n",
      "2  7.373528e+09  \n",
      "3  8.357516e+09  \n",
      "4  5.442776e+09  \n",
      "5  4.617001e+09  \n",
      "6  1.977217e+09  \n",
      "7  3.053828e+09  \n",
      "8  4.073353e+09  \n",
      "9  2.739205e+09  \n",
      "\n",
      "[10 rows x 39 columns]\n",
      "(300, 39)\n"
     ]
    }
   ],
   "source": [
    "#Load Zillow dataset\n",
    "df1 = pd.read_csv(\"Metro_zhvi_uc_sfr_tier_0.33_0.67_sm_sa_month.csv\", usecols=[\"RegionID\", \"SizeRank\", \"RegionName\", \"2025-01-31\"])\n",
    "df1 = df1.rename(columns={'2025-01-31': 'Zillow_Home_Value'})\n",
    "\n",
    "#Load CityNames crosswalk dataset\n",
    "df2 = pd.read_csv(\"CityNames.csv\", usecols=[\"RegionID\", \"cbsa10\"])\n",
    "df2[\"cbsa10\"] = df2[\"cbsa10\"].astype('Int64').astype(str)\n",
    "\n",
    "#Load NZLUD dataset\n",
    "df3 = pd.read_csv(\"nzlud_msa.csv\", usecols=['cbsa10', 'responses', 'restrict_sf_permit', 'restrict_mf_permit',\n",
    "       'limit_sf_units', 'limit_mf_units', 'limit_mf_dwellings',\n",
    "       'limit_mf_dwelling_units', 'min_lot_size', 'open_space', 'inclusionary',\n",
    "       'half_acre_less', 'half_acre_more', 'one_acre_more', 'two_acre_more',\n",
    "       'total_nz', 'total_rz', 'maxden5', 'maxden4', 'maxden3', 'maxden2',\n",
    "       'maxden1', 'adu', 'height_ft_median', 'height_ft_mode',\n",
    "       'height_st_median', 'height_st_mode', 'parking_median', 'parking_mode',\n",
    "       'zri_median'])\n",
    "df3[\"cbsa10\"] = df3[\"cbsa10\"].astype(str)\n",
    "\n",
    "#Load Urban Institute dataset\n",
    "df4 = pd.read_csv('Unified_data.csv', usecols=[\n",
    "    \"CBSA_GISJOIN\", \"CBSA_HSG_20\", \"CBSA_MED_HH_INC_19\", \n",
    "    \"CBSA_BA_PLUS_19\", \"POP_19\", \"AREA_SQM_20\"\n",
    "])\n",
    "\n",
    "#Aggregate functions for the Urban Institute dataset\n",
    "agg_functions = {\n",
    "    'CBSA_HSG_20': 'mean',\n",
    "    'CBSA_MED_HH_INC_19': 'mean',\n",
    "    'CBSA_BA_PLUS_19': 'mean',\n",
    "    'POP_19': 'sum',\n",
    "    'AREA_SQM_20': 'sum'\n",
    "}\n",
    "\n",
    "#Group data by cbsa10 and apply aggregation to the columns\n",
    "df4 = df4.groupby('CBSA_GISJOIN').agg(agg_functions).reset_index()\n",
    "\n",
    "#Rename and convert CBSA to match the others\n",
    "df4[\"cbsa10\"] = df4[\"CBSA_GISJOIN\"].str.lstrip(\"G\")\n",
    "df4[\"cbsa10\"] = df4[\"cbsa10\"].astype(str)\n",
    "\n",
    "\n",
    "#Join datasets and drop NULL values\n",
    "df = df1.merge(df2, on=\"RegionID\", how=\"inner\")\n",
    "df = df.merge(df3, on=\"cbsa10\", how=\"inner\")\n",
    "df = df.merge(df4.drop(columns=\"CBSA_GISJOIN\"), on=\"cbsa10\", how=\"inner\").dropna()\n",
    "\n",
    "#Show dataframe\n",
    "print(df.head(10))\n",
    "\n",
    "#Show shape of new dataset\n",
    "shape = df.shape\n",
    "print(shape)"
   ]
  },
  {
   "cell_type": "markdown",
   "id": "1b7c069a-07b8-492c-9115-e1749e40424b",
   "metadata": {},
   "source": [
    "Dropping all rows with NA values reduces the dataset by a large margin, however this is done to ensure all columns are accounted for.\n",
    "\n",
    "Correlations are shown between the target, Zillow Home Value, and the other factors."
   ]
  },
  {
   "cell_type": "code",
   "execution_count": 3,
   "id": "4d4efffc-30ae-4a37-aa57-1820e091aca2",
   "metadata": {},
   "outputs": [
    {
     "data": {
      "image/png": "[encoded data removed]",
      "text/plain": [
       "<Figure size 600x800 with 1 Axes>"
      ]
     },
     "metadata": {},
     "output_type": "display_data"
    }
   ],
   "source": [
    "#Show correlations \n",
    "corr_set = df.drop(columns=['RegionID', 'RegionName', 'cbsa10'])\n",
    "corrs = corr_set.corr()['Zillow_Home_Value'].sort_values(ascending=False)\n",
    "\n",
    "plt.figure(figsize=(6, 8))\n",
    "sns.barplot(x=corrs.values, y=corrs.index)\n",
    "\n",
    "plt.title('Correlation with Zillow Home Value')\n",
    "plt.xlabel('Correlation coefficient')\n",
    "plt.ylabel('Features')\n",
    "\n",
    "plt.tight_layout()\n",
    "plt.show()"
   ]
  },
  {
   "cell_type": "markdown",
   "id": "f314c40f-ceed-4970-8581-ae0c7f1dd2c7",
   "metadata": {},
   "source": [
    "CBSA_MED_HH_INC_19, inclusionary, CBSA_BA_PLUS_19, adu, and zri_median seem to be the most correlated factors.\n",
    "\n",
    "After data preprocessing, a random forest model is created using the Zillow Home Value Index as the target variable. Data is given an 80/20 train test split."
   ]
  },
  {
   "cell_type": "code",
   "execution_count": 4,
   "id": "ff4e8198-cd7f-4f1f-9511-a3abd6548779",
   "metadata": {},
   "outputs": [
    {
     "data": {
      "text/html": [
       "<style>#sk-container-id-1 {\n",
       "  /* Definition of color scheme common for light and dark mode */\n",
       "  --sklearn-color-text: #000;\n",
       "  --sklearn-color-text-muted: #666;\n",
       "  --sklearn-color-line: gray;\n",
       "  /* Definition of color scheme for unfitted estimators */\n",
       "  --sklearn-color-unfitted-level-0: #fff5e6;\n",
       "  --sklearn-color-unfitted-level-1: #f6e4d2;\n",
       "  --sklearn-color-unfitted-level-2: #ffe0b3;\n",
       "  --sklearn-color-unfitted-level-3: chocolate;\n",
       "  /* Definition of color scheme for fitted estimators */\n",
       "  --sklearn-color-fitted-level-0: #f0f8ff;\n",
       "  --sklearn-color-fitted-level-1: #d4ebff;\n",
       "  --sklearn-color-fitted-level-2: #b3dbfd;\n",
       "  --sklearn-color-fitted-level-3: cornflowerblue;\n",
       "\n",
       "  /* Specific color for light theme */\n",
       "  --sklearn-color-text-on-default-background: var(--sg-text-color, var(--theme-code-foreground, var(--jp-content-font-color1, black)));\n",
       "  --sklearn-color-background: var(--sg-background-color, var(--theme-background, var(--jp-layout-color0, white)));\n",
       "  --sklearn-color-border-box: var(--sg-text-color, var(--theme-code-foreground, var(--jp-content-font-color1, black)));\n",
       "  --sklearn-color-icon: #696969;\n",
       "\n",
       "  @media (prefers-color-scheme: dark) {\n",
       "    /* Redefinition of color scheme for dark theme */\n",
       "    --sklearn-color-text-on-default-background: var(--sg-text-color, var(--theme-code-foreground, var(--jp-content-font-color1, white)));\n",
       "    --sklearn-color-background: var(--sg-background-color, var(--theme-background, var(--jp-layout-color0, #111)));\n",
       "    --sklearn-color-border-box: var(--sg-text-color, var(--theme-code-foreground, var(--jp-content-font-color1, white)));\n",
       "    --sklearn-color-icon: #878787;\n",
       "  }\n",
       "}\n",
       "\n",
       "#sk-container-id-1 {\n",
       "  color: var(--sklearn-color-text);\n",
       "}\n",
       "\n",
       "#sk-container-id-1 pre {\n",
       "  padding: 0;\n",
       "}\n",
       "\n",
       "#sk-container-id-1 input.sk-hidden--visually {\n",
       "  border: 0;\n",
       "  clip: rect(1px 1px 1px 1px);\n",
       "  clip: rect(1px, 1px, 1px, 1px);\n",
       "  height: 1px;\n",
       "  margin: -1px;\n",
       "  overflow: hidden;\n",
       "  padding: 0;\n",
       "  position: absolute;\n",
       "  width: 1px;\n",
       "}\n",
       "\n",
       "#sk-container-id-1 div.sk-dashed-wrapped {\n",
       "  border: 1px dashed var(--sklearn-color-line);\n",
       "  margin: 0 0.4em 0.5em 0.4em;\n",
       "  box-sizing: border-box;\n",
       "  padding-bottom: 0.4em;\n",
       "  background-color: var(--sklearn-color-background);\n",
       "}\n",
       "\n",
       "#sk-container-id-1 div.sk-container {\n",
       "  /* jupyter's `normalize.less` sets `[hidden] { display: none; }`\n",
       "     but bootstrap.min.css set `[hidden] { display: none !important; }`\n",
       "     so we also need the `!important` here to be able to override the\n",
       "     default hidden behavior on the sphinx rendered scikit-learn.org.\n",
       "     See: https://github.com/scikit-learn/scikit-learn/issues/21755 */\n",
       "  display: inline-block !important;\n",
       "  position: relative;\n",
       "}\n",
       "\n",
       "#sk-container-id-1 div.sk-text-repr-fallback {\n",
       "  display: none;\n",
       "}\n",
       "\n",
       "div.sk-parallel-item,\n",
       "div.sk-serial,\n",
       "div.sk-item {\n",
       "  /* draw centered vertical line to link estimators */\n",
       "  background-image: linear-gradient(var(--sklearn-color-text-on-default-background), var(--sklearn-color-text-on-default-background));\n",
       "  background-size: 2px 100%;\n",
       "  background-repeat: no-repeat;\n",
       "  background-position: center center;\n",
       "}\n",
       "\n",
       "/* Parallel-specific style estimator block */\n",
       "\n",
       "#sk-container-id-1 div.sk-parallel-item::after {\n",
       "  content: \"\";\n",
       "  width: 100%;\n",
       "  border-bottom: 2px solid var(--sklearn-color-text-on-default-background);\n",
       "  flex-grow: 1;\n",
       "}\n",
       "\n",
       "#sk-container-id-1 div.sk-parallel {\n",
       "  display: flex;\n",
       "  align-items: stretch;\n",
       "  justify-content: center;\n",
       "  background-color: var(--sklearn-color-background);\n",
       "  position: relative;\n",
       "}\n",
       "\n",
       "#sk-container-id-1 div.sk-parallel-item {\n",
       "  display: flex;\n",
       "  flex-direction: column;\n",
       "}\n",
       "\n",
       "#sk-container-id-1 div.sk-parallel-item:first-child::after {\n",
       "  align-self: flex-end;\n",
       "  width: 50%;\n",
       "}\n",
       "\n",
       "#sk-container-id-1 div.sk-parallel-item:last-child::after {\n",
       "  align-self: flex-start;\n",
       "  width: 50%;\n",
       "}\n",
       "\n",
       "#sk-container-id-1 div.sk-parallel-item:only-child::after {\n",
       "  width: 0;\n",
       "}\n",
       "\n",
       "/* Serial-specific style estimator block */\n",
       "\n",
       "#sk-container-id-1 div.sk-serial {\n",
       "  display: flex;\n",
       "  flex-direction: column;\n",
       "  align-items: center;\n",
       "  background-color: var(--sklearn-color-background);\n",
       "  padding-right: 1em;\n",
       "  padding-left: 1em;\n",
       "}\n",
       "\n",
       "\n",
       "/* Toggleable style: style used for estimator/Pipeline/ColumnTransformer box that is\n",
       "clickable and can be expanded/collapsed.\n",
       "- Pipeline and ColumnTransformer use this feature and define the default style\n",
       "- Estimators will overwrite some part of the style using the `sk-estimator` class\n",
       "*/\n",
       "\n",
       "/* Pipeline and ColumnTransformer style (default) */\n",
       "\n",
       "#sk-container-id-1 div.sk-toggleable {\n",
       "  /* Default theme specific background. It is overwritten whether we have a\n",
       "  specific estimator or a Pipeline/ColumnTransformer */\n",
       "  background-color: var(--sklearn-color-background);\n",
       "}\n",
       "\n",
       "/* Toggleable label */\n",
       "#sk-container-id-1 label.sk-toggleable__label {\n",
       "  cursor: pointer;\n",
       "  display: flex;\n",
       "  width: 100%;\n",
       "  margin-bottom: 0;\n",
       "  padding: 0.5em;\n",
       "  box-sizing: border-box;\n",
       "  text-align: center;\n",
       "  align-items: start;\n",
       "  justify-content: space-between;\n",
       "  gap: 0.5em;\n",
       "}\n",
       "\n",
       "#sk-container-id-1 label.sk-toggleable__label .caption {\n",
       "  font-size: 0.6rem;\n",
       "  font-weight: lighter;\n",
       "  color: var(--sklearn-color-text-muted);\n",
       "}\n",
       "\n",
       "#sk-container-id-1 label.sk-toggleable__label-arrow:before {\n",
       "  /* Arrow on the left of the label */\n",
       "  content: \"▸\";\n",
       "  float: left;\n",
       "  margin-right: 0.25em;\n",
       "  color: var(--sklearn-color-icon);\n",
       "}\n",
       "\n",
       "#sk-container-id-1 label.sk-toggleable__label-arrow:hover:before {\n",
       "  color: var(--sklearn-color-text);\n",
       "}\n",
       "\n",
       "/* Toggleable content - dropdown */\n",
       "\n",
       "#sk-container-id-1 div.sk-toggleable__content {\n",
       "  max-height: 0;\n",
       "  max-width: 0;\n",
       "  overflow: hidden;\n",
       "  text-align: left;\n",
       "  /* unfitted */\n",
       "  background-color: var(--sklearn-color-unfitted-level-0);\n",
       "}\n",
       "\n",
       "#sk-container-id-1 div.sk-toggleable__content.fitted {\n",
       "  /* fitted */\n",
       "  background-color: var(--sklearn-color-fitted-level-0);\n",
       "}\n",
       "\n",
       "#sk-container-id-1 div.sk-toggleable__content pre {\n",
       "  margin: 0.2em;\n",
       "  border-radius: 0.25em;\n",
       "  color: var(--sklearn-color-text);\n",
       "  /* unfitted */\n",
       "  background-color: var(--sklearn-color-unfitted-level-0);\n",
       "}\n",
       "\n",
       "#sk-container-id-1 div.sk-toggleable__content.fitted pre {\n",
       "  /* unfitted */\n",
       "  background-color: var(--sklearn-color-fitted-level-0);\n",
       "}\n",
       "\n",
       "#sk-container-id-1 input.sk-toggleable__control:checked~div.sk-toggleable__content {\n",
       "  /* Expand drop-down */\n",
       "  max-height: 200px;\n",
       "  max-width: 100%;\n",
       "  overflow: auto;\n",
       "}\n",
       "\n",
       "#sk-container-id-1 input.sk-toggleable__control:checked~label.sk-toggleable__label-arrow:before {\n",
       "  content: \"▾\";\n",
       "}\n",
       "\n",
       "/* Pipeline/ColumnTransformer-specific style */\n",
       "\n",
       "#sk-container-id-1 div.sk-label input.sk-toggleable__control:checked~label.sk-toggleable__label {\n",
       "  color: var(--sklearn-color-text);\n",
       "  background-color: var(--sklearn-color-unfitted-level-2);\n",
       "}\n",
       "\n",
       "#sk-container-id-1 div.sk-label.fitted input.sk-toggleable__control:checked~label.sk-toggleable__label {\n",
       "  background-color: var(--sklearn-color-fitted-level-2);\n",
       "}\n",
       "\n",
       "/* Estimator-specific style */\n",
       "\n",
       "/* Colorize estimator box */\n",
       "#sk-container-id-1 div.sk-estimator input.sk-toggleable__control:checked~label.sk-toggleable__label {\n",
       "  /* unfitted */\n",
       "  background-color: var(--sklearn-color-unfitted-level-2);\n",
       "}\n",
       "\n",
       "#sk-container-id-1 div.sk-estimator.fitted input.sk-toggleable__control:checked~label.sk-toggleable__label {\n",
       "  /* fitted */\n",
       "  background-color: var(--sklearn-color-fitted-level-2);\n",
       "}\n",
       "\n",
       "#sk-container-id-1 div.sk-label label.sk-toggleable__label,\n",
       "#sk-container-id-1 div.sk-label label {\n",
       "  /* The background is the default theme color */\n",
       "  color: var(--sklearn-color-text-on-default-background);\n",
       "}\n",
       "\n",
       "/* On hover, darken the color of the background */\n",
       "#sk-container-id-1 div.sk-label:hover label.sk-toggleable__label {\n",
       "  color: var(--sklearn-color-text);\n",
       "  background-color: var(--sklearn-color-unfitted-level-2);\n",
       "}\n",
       "\n",
       "/* Label box, darken color on hover, fitted */\n",
       "#sk-container-id-1 div.sk-label.fitted:hover label.sk-toggleable__label.fitted {\n",
       "  color: var(--sklearn-color-text);\n",
       "  background-color: var(--sklearn-color-fitted-level-2);\n",
       "}\n",
       "\n",
       "/* Estimator label */\n",
       "\n",
       "#sk-container-id-1 div.sk-label label {\n",
       "  font-family: monospace;\n",
       "  font-weight: bold;\n",
       "  display: inline-block;\n",
       "  line-height: 1.2em;\n",
       "}\n",
       "\n",
       "#sk-container-id-1 div.sk-label-container {\n",
       "  text-align: center;\n",
       "}\n",
       "\n",
       "/* Estimator-specific */\n",
       "#sk-container-id-1 div.sk-estimator {\n",
       "  font-family: monospace;\n",
       "  border: 1px dotted var(--sklearn-color-border-box);\n",
       "  border-radius: 0.25em;\n",
       "  box-sizing: border-box;\n",
       "  margin-bottom: 0.5em;\n",
       "  /* unfitted */\n",
       "  background-color: var(--sklearn-color-unfitted-level-0);\n",
       "}\n",
       "\n",
       "#sk-container-id-1 div.sk-estimator.fitted {\n",
       "  /* fitted */\n",
       "  background-color: var(--sklearn-color-fitted-level-0);\n",
       "}\n",
       "\n",
       "/* on hover */\n",
       "#sk-container-id-1 div.sk-estimator:hover {\n",
       "  /* unfitted */\n",
       "  background-color: var(--sklearn-color-unfitted-level-2);\n",
       "}\n",
       "\n",
       "#sk-container-id-1 div.sk-estimator.fitted:hover {\n",
       "  /* fitted */\n",
       "  background-color: var(--sklearn-color-fitted-level-2);\n",
       "}\n",
       "\n",
       "/* Specification for estimator info (e.g. \"i\" and \"?\") */\n",
       "\n",
       "/* Common style for \"i\" and \"?\" */\n",
       "\n",
       ".sk-estimator-doc-link,\n",
       "a:link.sk-estimator-doc-link,\n",
       "a:visited.sk-estimator-doc-link {\n",
       "  float: right;\n",
       "  font-size: smaller;\n",
       "  line-height: 1em;\n",
       "  font-family: monospace;\n",
       "  background-color: var(--sklearn-color-background);\n",
       "  border-radius: 1em;\n",
       "  height: 1em;\n",
       "  width: 1em;\n",
       "  text-decoration: none !important;\n",
       "  margin-left: 0.5em;\n",
       "  text-align: center;\n",
       "  /* unfitted */\n",
       "  border: var(--sklearn-color-unfitted-level-1) 1pt solid;\n",
       "  color: var(--sklearn-color-unfitted-level-1);\n",
       "}\n",
       "\n",
       ".sk-estimator-doc-link.fitted,\n",
       "a:link.sk-estimator-doc-link.fitted,\n",
       "a:visited.sk-estimator-doc-link.fitted {\n",
       "  /* fitted */\n",
       "  border: var(--sklearn-color-fitted-level-1) 1pt solid;\n",
       "  color: var(--sklearn-color-fitted-level-1);\n",
       "}\n",
       "\n",
       "/* On hover */\n",
       "div.sk-estimator:hover .sk-estimator-doc-link:hover,\n",
       ".sk-estimator-doc-link:hover,\n",
       "div.sk-label-container:hover .sk-estimator-doc-link:hover,\n",
       ".sk-estimator-doc-link:hover {\n",
       "  /* unfitted */\n",
       "  background-color: var(--sklearn-color-unfitted-level-3);\n",
       "  color: var(--sklearn-color-background);\n",
       "  text-decoration: none;\n",
       "}\n",
       "\n",
       "div.sk-estimator.fitted:hover .sk-estimator-doc-link.fitted:hover,\n",
       ".sk-estimator-doc-link.fitted:hover,\n",
       "div.sk-label-container:hover .sk-estimator-doc-link.fitted:hover,\n",
       ".sk-estimator-doc-link.fitted:hover {\n",
       "  /* fitted */\n",
       "  background-color: var(--sklearn-color-fitted-level-3);\n",
       "  color: var(--sklearn-color-background);\n",
       "  text-decoration: none;\n",
       "}\n",
       "\n",
       "/* Span, style for the box shown on hovering the info icon */\n",
       ".sk-estimator-doc-link span {\n",
       "  display: none;\n",
       "  z-index: 9999;\n",
       "  position: relative;\n",
       "  font-weight: normal;\n",
       "  right: .2ex;\n",
       "  padding: .5ex;\n",
       "  margin: .5ex;\n",
       "  width: min-content;\n",
       "  min-width: 20ex;\n",
       "  max-width: 50ex;\n",
       "  color: var(--sklearn-color-text);\n",
       "  box-shadow: 2pt 2pt 4pt #999;\n",
       "  /* unfitted */\n",
       "  background: var(--sklearn-color-unfitted-level-0);\n",
       "  border: .5pt solid var(--sklearn-color-unfitted-level-3);\n",
       "}\n",
       "\n",
       ".sk-estimator-doc-link.fitted span {\n",
       "  /* fitted */\n",
       "  background: var(--sklearn-color-fitted-level-0);\n",
       "  border: var(--sklearn-color-fitted-level-3);\n",
       "}\n",
       "\n",
       ".sk-estimator-doc-link:hover span {\n",
       "  display: block;\n",
       "}\n",
       "\n",
       "/* \"?\"-specific style due to the `<a>` HTML tag */\n",
       "\n",
       "#sk-container-id-1 a.estimator_doc_link {\n",
       "  float: right;\n",
       "  font-size: 1rem;\n",
       "  line-height: 1em;\n",
       "  font-family: monospace;\n",
       "  background-color: var(--sklearn-color-background);\n",
       "  border-radius: 1rem;\n",
       "  height: 1rem;\n",
       "  width: 1rem;\n",
       "  text-decoration: none;\n",
       "  /* unfitted */\n",
       "  color: var(--sklearn-color-unfitted-level-1);\n",
       "  border: var(--sklearn-color-unfitted-level-1) 1pt solid;\n",
       "}\n",
       "\n",
       "#sk-container-id-1 a.estimator_doc_link.fitted {\n",
       "  /* fitted */\n",
       "  border: var(--sklearn-color-fitted-level-1) 1pt solid;\n",
       "  color: var(--sklearn-color-fitted-level-1);\n",
       "}\n",
       "\n",
       "/* On hover */\n",
       "#sk-container-id-1 a.estimator_doc_link:hover {\n",
       "  /* unfitted */\n",
       "  background-color: var(--sklearn-color-unfitted-level-3);\n",
       "  color: var(--sklearn-color-background);\n",
       "  text-decoration: none;\n",
       "}\n",
       "\n",
       "#sk-container-id-1 a.estimator_doc_link.fitted:hover {\n",
       "  /* fitted */\n",
       "  background-color: var(--sklearn-color-fitted-level-3);\n",
       "}\n",
       "</style><div id=\"sk-container-id-1\" class=\"sk-top-container\"><div class=\"sk-text-repr-fallback\"><pre>RandomForestRegressor(random_state=6)</pre><b>In a Jupyter environment, please rerun this cell to show the HTML representation or trust the notebook. <br />On GitHub, the HTML representation is unable to render, please try loading this page with nbviewer.org.</b></div><div class=\"sk-container\" hidden><div class=\"sk-item\"><div class=\"sk-estimator fitted sk-toggleable\"><input class=\"sk-toggleable__control sk-hidden--visually\" id=\"sk-estimator-id-1\" type=\"checkbox\" checked><label for=\"sk-estimator-id-1\" class=\"sk-toggleable__label fitted sk-toggleable__label-arrow\"><div><div>RandomForestRegressor</div></div><div><a class=\"sk-estimator-doc-link fitted\" rel=\"noreferrer\" target=\"_blank\" href=\"https://scikit-learn.org/1.6/modules/generated/sklearn.ensemble.RandomForestRegressor.html\">?<span>Documentation for RandomForestRegressor</span></a><span class=\"sk-estimator-doc-link fitted\">i<span>Fitted</span></span></div></label><div class=\"sk-toggleable__content fitted\"><pre>RandomForestRegressor(random_state=6)</pre></div> </div></div></div></div>"
      ],
      "text/plain": [
       "RandomForestRegressor(random_state=6)"
      ]
     },
     "execution_count": 4,
     "metadata": {},
     "output_type": "execute_result"
    }
   ],
   "source": [
    "#Random Forest\n",
    "\n",
    "X = df.drop(columns=['Zillow_Home_Value', 'RegionID', 'RegionName', 'cbsa10'])\n",
    "y = df['Zillow_Home_Value']\n",
    "\n",
    "X_train, X_test, y_train, y_test = train_test_split(X, y, test_size=0.2, random_state=6)\n",
    "\n",
    "rf_model = RandomForestRegressor(n_estimators=100, random_state=6)\n",
    "rf_model.fit(X_train, y_train)\n"
   ]
  },
  {
   "cell_type": "code",
   "execution_count": 5,
   "id": "f40a68d5-3c4a-45d1-be22-f6bed92cd2e6",
   "metadata": {},
   "outputs": [
    {
     "name": "stdout",
     "output_type": "stream",
     "text": [
      "Train R-squared: 0.962620\n",
      "Test R-squared: 0.585999\n",
      "Train MSE: 1698347354.982781\n",
      "Test MSE: 7199667518.651282\n"
     ]
    }
   ],
   "source": [
    "#Model evaluation\n",
    "\n",
    "#Predictions\n",
    "train_preds = rf_model.predict(X_train)\n",
    "test_preds = rf_model.predict(X_test)\n",
    "\n",
    "#R-Squared\n",
    "train_r2 = r2_score(y_train, train_preds)\n",
    "test_r2 = r2_score(y_test, test_preds)\n",
    "\n",
    "#MSE\n",
    "train_mse = mean_squared_error(y_train, train_preds)\n",
    "test_mse = mean_squared_error(y_test, test_preds)\n",
    "\n",
    "print(f\"Train R-squared: {train_r2:f}\")\n",
    "print(f\"Test R-squared: {test_r2:f}\")\n",
    "print(f\"Train MSE: {train_mse:f}\")\n",
    "print(f\"Test MSE: {test_mse:f}\")"
   ]
  },
  {
   "cell_type": "code",
   "execution_count": 6,
   "id": "05141926-5996-4a1a-8eb7-f6e4901f598c",
   "metadata": {},
   "outputs": [
    {
     "name": "stdout",
     "output_type": "stream",
     "text": [
      "Cross-validated R-squared scores: [0.60430671 0.7755768  0.74727164 0.50917979 0.68631375]\n",
      "Average R-squared: 0.6645297379574576\n"
     ]
    }
   ],
   "source": [
    "cv_scores = cross_val_score(rf_model, X, y, cv=5, scoring='r2')\n",
    "\n",
    "print(\"Cross-validated R-squared scores:\", cv_scores)\n",
    "print(\"Average R-squared:\", np.mean(cv_scores))"
   ]
  },
  {
   "cell_type": "markdown",
   "id": "fec6496f-4d5c-475d-8a49-ed7eff63cabe",
   "metadata": {},
   "source": [
    "The train R-squared result is very high, where the test R-squared result is much lower, but still not terrible. Both MSE results seem unrealistically high. Using cross validation, the average R-squared is between the test and train results at a good 0.66.\n",
    "\n",
    "Using permutation importance on the random forest model, we can see what seems to be the most important factors at the moment."
   ]
  },
  {
   "cell_type": "code",
   "execution_count": 7,
   "id": "60a1002b-986d-4133-8a04-51d86c92db29",
   "metadata": {},
   "outputs": [
    {
     "name": "stdout",
     "output_type": "stream",
     "text": [
      "CBSA_MED_HH_INC_19: 0.494417\n",
      "inclusionary: 0.258629\n",
      "total_rz: 0.022971\n",
      "adu: 0.017097\n",
      "open_space: 0.016784\n",
      "AREA_SQM_20: 0.006792\n",
      "zri_median: 0.005907\n",
      "one_acre_more: 0.005658\n",
      "half_acre_less: 0.005207\n",
      "SizeRank: 0.003315\n"
     ]
    }
   ],
   "source": [
    "#Permutation importance\n",
    "result = permutation_importance(rf_model, X_test, y_test, n_repeats=10, random_state=6)\n",
    "sorted_idx = result.importances_mean.argsort()[::-1]\n",
    "for i in sorted_idx[:10]:\n",
    "    print(f\"{X_test.columns[i]}: {result.importances_mean[i]:f}\")"
   ]
  },
  {
   "cell_type": "markdown",
   "id": "aa05bcca-8721-465d-af99-832a13105ddc",
   "metadata": {},
   "source": [
    "These results are very similar to the correlation results, however CBSA_BA_PLUS_19 seems to be less important.\n",
    "\n",
    "A simple linear regression model is trained to verify the data and results are reasonable."
   ]
  },
  {
   "cell_type": "code",
   "execution_count": 8,
   "id": "e8a22b4e-e32c-4e83-b947-5ff082a254b4",
   "metadata": {},
   "outputs": [
    {
     "name": "stdout",
     "output_type": "stream",
     "text": [
      "Linear Train R-squared: 0.830057\n",
      "Linear Test R-squared: 0.442999\n"
     ]
    }
   ],
   "source": [
    "l_model = LinearRegression()\n",
    "l_model.fit(X_train, y_train)\n",
    "y_train_pred_lin = l_model.predict(X_train)\n",
    "y_test_pred_lin = l_model.predict(X_test)\n",
    "\n",
    "print(f\"Linear Train R-squared: {r2_score(y_train, y_train_pred_lin):f}\")\n",
    "print(f\"Linear Test R-squared: {r2_score(y_test, y_test_pred_lin):f}\")"
   ]
  },
  {
   "cell_type": "markdown",
   "id": "849c4cdb-681e-48e5-8a65-8e56a5c7c324",
   "metadata": {},
   "source": [
    "These results seem reasonable.\n",
    "\n",
    "In order to try to optimize the random forest model, GridSearch is used to find the best hyperparameters."
   ]
  },
  {
   "cell_type": "code",
   "execution_count": null,
   "id": "9990fb68-b44b-43ff-a449-45c3645ec038",
   "metadata": {},
   "outputs": [
    {
     "name": "stdout",
     "output_type": "stream",
     "text": [
      "Fitting 5 folds for each of 72 candidates, totalling 360 fits\n",
      "Best Parameters: {'max_depth': 10, 'max_features': 'sqrt', 'min_samples_split': 5, 'n_estimators': 100}\n",
      "Best Cross-Validated R-squared Score: 0.5933870245711478\n"
     ]
    }
   ],
   "source": [
    "#Random forest using gridsearch\n",
    "gs_rf_model = RandomForestRegressor(random_state=16)\n",
    "\n",
    "param_grid = {\n",
    "    'n_estimators': [50, 100, 200],\n",
    "    'max_depth': [None, 10, 20, 30],\n",
    "    'min_samples_split': [2, 5, 10],\n",
    "    'max_features': ['sqrt', 'log2']\n",
    "}\n",
    "\n",
    "grid_search = GridSearchCV(\n",
    "    estimator=gs_rf_model,\n",
    "    param_grid=param_grid,\n",
    "    cv=5,\n",
    "    scoring='r2',\n",
    "    n_jobs=-1,\n",
    "    verbose=2\n",
    ")\n",
    "\n",
    "grid_search.fit(X, y)\n",
    "\n",
    "print(\"Best Parameters:\", grid_search.best_params_)\n",
    "print(\"Best Cross-Validated R-squared Score:\", grid_search.best_score_)"
   ]
  },
  {
   "cell_type": "markdown",
   "id": "732e2a2b-85a6-43ca-b740-84650c8ce371",
   "metadata": {},
   "source": [
    "Now, a random forest model is created using the hyperparameters from gridsearch."
   ]
  },
  {
   "cell_type": "code",
   "execution_count": 10,
   "id": "5caa549f-2c35-4ab5-86cc-4eaf9badbf1e",
   "metadata": {},
   "outputs": [
    {
     "name": "stdout",
     "output_type": "stream",
     "text": [
      "Train R-squared: 0.9238947485598785\n",
      "Test R-squared: 0.5434865081846603\n",
      "Test RMSE: 7938980996.129747\n",
      "Test MAE: 71449.21061141495\n"
     ]
    }
   ],
   "source": [
    "gs_rf = RandomForestRegressor(\n",
    "    max_depth=10,\n",
    "    max_features='sqrt',\n",
    "    min_samples_split=5,\n",
    "    n_estimators=100,\n",
    "    random_state=6\n",
    ")\n",
    "\n",
    "gs_rf.fit(X, y)\n",
    "\n",
    "X_train, X_test, y_train, y_test = train_test_split(X, y, test_size=0.2, random_state=6)\n",
    "\n",
    "gs_rf.fit(X_train, y_train)\n",
    "\n",
    "y_train_pred = gs_rf.predict(X_train)\n",
    "y_test_pred = gs_rf.predict(X_test)\n",
    "\n",
    "print(\"Train R-squared:\", r2_score(y_train, y_train_pred))\n",
    "print(\"Test R-squared:\", r2_score(y_test, y_test_pred))\n",
    "print(\"Test RMSE:\", mean_squared_error(y_test, y_test_pred))\n",
    "print(\"Test MAE:\", mean_absolute_error(y_test, y_test_pred))"
   ]
  },
  {
   "cell_type": "code",
   "execution_count": 11,
   "id": "e07b4a78-4640-42d0-9b6c-e8a85f571955",
   "metadata": {},
   "outputs": [
    {
     "name": "stdout",
     "output_type": "stream",
     "text": [
      "Cross-validated R-squared scores: [0.43183592 0.69017831 0.66777552 0.56548908 0.48064653]\n",
      "Average R-squared: 0.567185073157274\n"
     ]
    }
   ],
   "source": [
    "cv_scores = cross_val_score(gs_rf, X, y, cv=5, scoring='r2')\n",
    "print(\"Cross-validated R-squared scores:\", cv_scores)\n",
    "print(\"Average R-squared:\", cv_scores.mean())"
   ]
  },
  {
   "cell_type": "markdown",
   "id": "d75daa05-0b22-4b70-ab3f-08d4d413e023",
   "metadata": {},
   "source": [
    "The results with the tuned hyperparameters are actually worse than the original model.\n",
    "\n",
    "To further try to create a better model, we can check for skew in the target data and see what we can do about it."
   ]
  },
  {
   "cell_type": "code",
   "execution_count": 13,
   "id": "c3fad887-b446-4c45-b13a-a720d1cce617",
   "metadata": {},
   "outputs": [
    {
     "data": {
      "image/png": "[encoded data removed]",
      "text/plain": [
       "<Figure size 1000x600 with 1 Axes>"
      ]
     },
     "metadata": {},
     "output_type": "display_data"
    },
    {
     "name": "stdout",
     "output_type": "stream",
     "text": [
      "Skew of y: 2.517419\n"
     ]
    },
    {
     "data": {
      "image/png": "[encoded data removed]",
      "text/plain": [
       "<Figure size 1000x400 with 1 Axes>"
      ]
     },
     "metadata": {},
     "output_type": "display_data"
    },
    {
     "name": "stdout",
     "output_type": "stream",
     "text": [
      "Number of outliers: 20\n",
      "Outlier threshold: Lower: -44056.723183 Upper: 675011.194176\n"
     ]
    }
   ],
   "source": [
    "#Histogram of target\n",
    "plt.figure(figsize=(10,6))\n",
    "sns.histplot(y, kde=True, bins=50)\n",
    "plt.title('Distribution of y')\n",
    "plt.xlabel('y values')\n",
    "plt.ylabel('Frequency')\n",
    "plt.show()\n",
    "\n",
    "#Skew\n",
    "y_skew = skew(y)\n",
    "print(f\"Skew of y: {y_skew:f}\")\n",
    "\n",
    "#Boxplot for outliers\n",
    "plt.figure(figsize=(10,4))\n",
    "sns.boxplot(x=y)\n",
    "plt.title('Boxplot of y')\n",
    "plt.show()\n",
    "\n",
    "#Find outliers\n",
    "q1 = np.percentile(y, 25)\n",
    "q3 = np.percentile(y, 75)\n",
    "qrange = q3 - q1\n",
    "lb = q1 - 1.5 * qrange\n",
    "ub = q3 + 1.5 * qrange\n",
    "\n",
    "outliers = y[(y < lb) | (y > ub)]\n",
    "print(f\"Number of outliers: {len(outliers)}\")\n",
    "print(f\"Outlier threshold: Lower: {lb:f} Upper: {ub:f}\")"
   ]
  },
  {
   "cell_type": "markdown",
   "id": "5e8f14eb-2440-4a22-ac2f-cef2fbdcab3a",
   "metadata": {},
   "source": [
    "The data has a positive skew value, which can be clearly seen in the histogram. There are 20 outliers in the high range of the Zillow Home Value, however I chose to not remove them as they are real values of houses and could be useful in the model.\n",
    "\n",
    "To deal with the skew, log is used on the target variable to normalize the data."
   ]
  },
  {
   "cell_type": "code",
   "execution_count": 14,
   "id": "5eac1883-3126-43cb-ad20-7d543f1fa6b0",
   "metadata": {},
   "outputs": [
    {
     "data": {
      "image/png": "[encoded data removed]",
      "text/plain": [
       "<Figure size 1000x600 with 1 Axes>"
      ]
     },
     "metadata": {},
     "output_type": "display_data"
    },
    {
     "name": "stdout",
     "output_type": "stream",
     "text": [
      "Skew of log y: 0.468605\n"
     ]
    },
    {
     "data": {
      "image/png": "[encoded data removed]",
      "text/plain": [
       "<Figure size 1000x400 with 1 Axes>"
      ]
     },
     "metadata": {},
     "output_type": "display_data"
    },
    {
     "name": "stdout",
     "output_type": "stream",
     "text": [
      "Number of outliers: 9\n",
      "Outlier threshold: Lower: 11.447423 Upper: 13.791602\n"
     ]
    }
   ],
   "source": [
    "#Histogram with log\n",
    "plt.figure(figsize=(10,6))\n",
    "sns.histplot(np.log1p(y), kde=True, bins=50)\n",
    "plt.title('Distribution of log y')\n",
    "plt.xlabel('log y values')\n",
    "plt.ylabel('Frequency')\n",
    "plt.show()\n",
    "\n",
    "log_y_skew = skew(np.log1p(y))\n",
    "print(f\"Skew of log y: {log_y_skew:f}\")\n",
    "\n",
    "#Boxplot for outliers\n",
    "plt.figure(figsize=(10,4))\n",
    "sns.boxplot(x=np.log1p(y))\n",
    "plt.title('Boxplot of log y')\n",
    "plt.show()\n",
    "\n",
    "#Find outliers\n",
    "q1 = np.percentile(np.log1p(y), 25)\n",
    "q3 = np.percentile(np.log1p(y), 75)\n",
    "qrange = q3 - q1\n",
    "lb = q1 - 1.5 * qrange\n",
    "ub = q3 + 1.5 * qrange\n",
    "\n",
    "outliers = np.log1p(y)[(np.log1p(y) < lb) | (np.log1p(y) > ub)]\n",
    "print(f\"Number of outliers: {len(outliers)}\")\n",
    "print(f\"Outlier threshold: Lower: {lb:f} Upper: {ub:f}\")\n"
   ]
  },
  {
   "cell_type": "markdown",
   "id": "3fad87fd-ba17-4810-a196-3f87d4569460",
   "metadata": {},
   "source": [
    "Though there are still outliers, the skew value is much lower, and the histogram looks much more normally distributed. Outliers are also less abundant and less extreme.\n",
    "\n",
    "Now a random forest model will be created with log(y)."
   ]
  },
  {
   "cell_type": "code",
   "execution_count": 15,
   "id": "6cb6daa6-a570-43ea-b139-1f6d0af62029",
   "metadata": {},
   "outputs": [
    {
     "name": "stdout",
     "output_type": "stream",
     "text": [
      "Train R-squared: 0.933900\n",
      "Test R-squared: 0.601081\n",
      "Test RMSE: 83290.942846\n",
      "Test MAE: 64239.338817\n",
      "Cross-validated R-squared scores: [0.55662739 0.69936219 0.66506541 0.51815537 0.4756711 ]\n",
      "Average R-squared: 0.582976\n"
     ]
    }
   ],
   "source": [
    "#Random forest using log\n",
    "X_train, X_test, y_train, y_test = train_test_split(X, y, test_size=0.2, random_state=6)\n",
    "\n",
    "y_train_log = np.log1p(y_train)\n",
    "y_test_log = np.log1p(y_test)\n",
    "\n",
    "log_rf = RandomForestRegressor(\n",
    "    max_depth=20,\n",
    "    max_features='sqrt',\n",
    "    min_samples_split=2,\n",
    "    n_estimators=200,\n",
    "    random_state=6\n",
    ")\n",
    "log_rf.fit(X_train, y_train_log)\n",
    "\n",
    "y_train_log_pred = log_rf.predict(X_train)\n",
    "y_test_log_pred = log_rf.predict(X_test)\n",
    "\n",
    "y_train_pred = np.expm1(y_train_log_pred)\n",
    "y_test_pred = np.expm1(y_test_log_pred)\n",
    "\n",
    "train_r2 = r2_score(y_train, y_train_pred)\n",
    "test_r2 = r2_score(y_test, y_test_pred)\n",
    "test_rmse = np.sqrt(mean_squared_error(y_test, y_test_pred))\n",
    "test_mae = mean_absolute_error(y_test, y_test_pred)\n",
    "\n",
    "print(f\"Train R-squared: {train_r2:f}\")\n",
    "print(f\"Test R-squared: {test_r2:f}\")\n",
    "print(f\"Test RMSE: {test_rmse:f}\")\n",
    "print(f\"Test MAE: {test_mae:f}\")\n",
    "\n",
    "cv_scores = cross_val_score(log_rf, X, np.log1p(y), cv=5, scoring='r2')\n",
    "print(f\"Cross-validated R-squared scores: {cv_scores}\")\n",
    "print(f\"Average R-squared: {np.mean(cv_scores):f}\")"
   ]
  },
  {
   "cell_type": "markdown",
   "id": "b5321ce0-27ec-49e8-a4c4-511fc8de0764",
   "metadata": {},
   "source": [
    "Using log on the target results in a similar cross-validated r-squared value, but much more reasonable RMSE and MAE values.\n",
    "\n",
    "Now to use log while trying to get the best hyperparameters, a random forest model is created using log and RandomizedSearchCV."
   ]
  },
  {
   "cell_type": "code",
   "execution_count": null,
   "id": "575693bb-4f40-4f62-8116-310df9fa2579",
   "metadata": {},
   "outputs": [
    {
     "name": "stdout",
     "output_type": "stream",
     "text": [
      "Best hyperparameters from RandomizedSearchCV: {'bootstrap': False, 'max_depth': 11, 'max_features': 'log2', 'min_samples_leaf': 2, 'min_samples_split': 3, 'n_estimators': 88}\n",
      "Train R-squared: 0.9715310786167606\n",
      "Test R-squared: 0.631424986182872\n",
      "Test RMSE: 80060.54050991368\n",
      "Test MAE: 62848.17316209326\n",
      "Cross-validated R-squared scores: [0.55789805 0.6957436  0.68633004 0.50295796 0.48958409]\n",
      "Average R-squared: 0.586503\n"
     ]
    }
   ],
   "source": [
    "y_log = np.log1p(y)\n",
    "\n",
    "X_train, X_test, y_train_log, y_test_log = train_test_split(X, y_log, test_size=0.2, random_state=6)\n",
    "\n",
    "rs_log_rf = RandomForestRegressor(random_state=6)\n",
    "\n",
    "#parameters for RandomizedSearchCV to try\n",
    "param_dist = {\n",
    "    'n_estimators': randint(50, 500),\n",
    "    'max_depth': randint(5, 20),\n",
    "    'min_samples_split': randint(2, 20),\n",
    "    'min_samples_leaf': randint(1, 20),\n",
    "    'max_features': ['sqrt', 'log2'],\n",
    "    'bootstrap': [True, False],\n",
    "}\n",
    "\n",
    "random_search = RandomizedSearchCV(rs_log_rf, param_dist, n_iter=100, cv=5, scoring='neg_mean_squared_error', random_state=6)\n",
    "\n",
    "random_search.fit(X_train, y_train_log)\n",
    "\n",
    "rs_log_rf = random_search.best_estimator_\n",
    "\n",
    "y_pred_log = rs_log_rf.predict(X_test)\n",
    "\n",
    "y_pred = np.expm1(y_pred_log)\n",
    "\n",
    "train_pred_log = rs_log_rf.predict(X_train)\n",
    "train_pred = np.expm1(train_pred_log)\n",
    "\n",
    "train_r2 = r2_score(np.expm1(y_train_log), train_pred)\n",
    "test_r2 = r2_score(np.expm1(y_test_log), y_pred)\n",
    "test_rmse = np.sqrt(mean_squared_error(np.expm1(y_test_log), y_pred))\n",
    "test_mae = np.mean(np.abs(np.expm1(y_test_log) - y_pred))\n",
    "\n",
    "print(\"Best hyperparameters from RandomizedSearchCV:\", random_search.best_params_)\n",
    "print(f\"Train R-squared: {train_r2}\")\n",
    "print(f\"Test R-squared: {test_r2}\")\n",
    "print(f\"Test RMSE: {test_rmse}\")\n",
    "print(f\"Test MAE: {test_mae}\")\n",
    "\n",
    "cv_scores = cross_val_score(rs_log_rf, X, np.log1p(y), cv=5, scoring='r2')\n",
    "print(f\"Cross-validated R-squared scores: {cv_scores}\")\n",
    "print(f\"Average R-squared: {np.mean(cv_scores):f}\")"
   ]
  },
  {
   "cell_type": "markdown",
   "id": "012fd891-1251-4159-9960-fb0544035d03",
   "metadata": {},
   "source": [
    "This method results in a very similar cross validated R-squared score to the other models.\n",
    "\n",
    "Lastly, a reduced model is created using all the methods combined to see if lowering the number of features can create a better model. To do this, the most important features are listed, and a model is created from this list."
   ]
  },
  {
   "cell_type": "code",
   "execution_count": 17,
   "id": "58745220-2524-4216-8237-8cd0b4a9def5",
   "metadata": {},
   "outputs": [
    {
     "name": "stdout",
     "output_type": "stream",
     "text": [
      "Top features: ['limit_sf_units', 'open_space', 'inclusionary', 'adu', 'zri_median', 'CBSA_MED_HH_INC_19', 'CBSA_BA_PLUS_19']\n"
     ]
    }
   ],
   "source": [
    "perm_importance = permutation_importance(rs_log_rf, X_test, y_test_log, n_repeats=10, random_state=6)\n",
    "importances = perm_importance.importances_mean\n",
    "important_features = X_test.columns[importances > 0.01]\n",
    "\n",
    "print(\"Top features:\", list(important_features))"
   ]
  },
  {
   "cell_type": "code",
   "execution_count": 20,
   "id": "de515976-a3b2-4bd7-9f37-b1631ae727e0",
   "metadata": {},
   "outputs": [
    {
     "name": "stdout",
     "output_type": "stream",
     "text": [
      "Reduced Model Train R-squared: 0.831445\n",
      "Reduced Model Test R-squared: 0.676534\n",
      "Reduced Model RMSE: 75001.547729\n",
      "Reduced Model MAE: 59618.504799\n"
     ]
    }
   ],
   "source": [
    "X_train_important = X_train[important_features]\n",
    "X_test_important = X_test[important_features]\n",
    "\n",
    "rf_model_reduced = RandomForestRegressor(\n",
    "    max_depth=11,\n",
    "    max_features='log2',\n",
    "    min_samples_split=2,\n",
    "    min_samples_leaf=3,\n",
    "    n_estimators=88,\n",
    "    random_state=6\n",
    ")\n",
    "\n",
    "rf_model_reduced.fit(X_train_important, y_train_log)\n",
    "\n",
    "y_train_pred_log = rf_model_reduced.predict(X_train_important)\n",
    "y_test_pred_log = rf_model_reduced.predict(X_test_important)\n",
    "\n",
    "y_train_pred_reduced = np.expm1(y_train_pred_log)\n",
    "y_train_reduced = np.expm1(y_train_log)\n",
    "y_pred = np.expm1(y_test_pred_log)\n",
    "y_test = np.expm1(y_test_log)\n",
    "\n",
    "train_r2_reduced = r2_score(y_train_reduced, y_train_pred_reduced)\n",
    "r2_reduced = r2_score(y_test, y_pred)\n",
    "rmse_reduced = np.sqrt(mean_squared_error(y_test, y_pred))\n",
    "mae_reduced = mean_absolute_error(y_test, y_pred)\n",
    "\n",
    "print(f\"Reduced Model Train R-squared: {train_r2_reduced:f}\")\n",
    "print(f\"Reduced Model Test R-squared: {r2_reduced:f}\")\n",
    "print(f\"Reduced Model RMSE: {rmse_reduced:f}\")\n",
    "print(f\"Reduced Model MAE: {mae_reduced:f}\")"
   ]
  },
  {
   "cell_type": "markdown",
   "id": "0eb5c5ce-93d7-444f-b863-6ba4e9ce3110",
   "metadata": {},
   "source": [
    "From this final model, the most important features are ranked."
   ]
  },
  {
   "cell_type": "code",
   "execution_count": 22,
   "id": "543a7503-d23d-4994-96d1-d7432bb5fb3c",
   "metadata": {},
   "outputs": [
    {
     "data": {
      "image/png": "[encoded data removed]",
      "text/plain": [
       "<Figure size 1000x600 with 1 Axes>"
      ]
     },
     "metadata": {},
     "output_type": "display_data"
    },
    {
     "name": "stdout",
     "output_type": "stream",
     "text": [
      "              Feature  Importance\n",
      "5  CBSA_MED_HH_INC_19    0.339815\n",
      "2        inclusionary    0.220265\n",
      "6     CBSA_BA_PLUS_19    0.142069\n",
      "4          zri_median    0.104212\n",
      "3                 adu    0.099165\n",
      "1          open_space    0.063410\n",
      "0      limit_sf_units    0.031063\n"
     ]
    }
   ],
   "source": [
    "#Feature importance\n",
    "importance = rf_model_reduced.feature_importances_\n",
    "feature_names = important_features\n",
    "\n",
    "feat_importance_df = pd.DataFrame({\n",
    "    'Feature': feature_names,\n",
    "    'Importance': importance\n",
    "}).sort_values(by='Importance', ascending=False)\n",
    "\n",
    "plt.figure(figsize=(10, 6))\n",
    "sns.barplot(x='Importance', y='Feature', data=feat_importance_df.head(15))\n",
    "plt.title('Most Influential Features on Zillow Home Value')\n",
    "plt.tight_layout()\n",
    "plt.show()\n",
    "\n",
    "print(feat_importance_df)"
   ]
  },
  {
   "cell_type": "markdown",
   "id": "aab51f7d-4034-44ba-850d-7cd7e48afca8",
   "metadata": {},
   "source": [
    "The final R-Squared value was 0.6765, with an RMSE of 75001.55 and an MAE of 59618.5. This result suggests that the included variables do influence the Zillow Home Value Index. The five most influential factors found were median household income, whether there is an inclusionary zoning program or not, the share of those above age 25 with higher education, the median Zoning Restrictiveness Index score, and whether accessory dwelling units are allowed or not."
   ]
  },
  {
   "cell_type": "code",
   "execution_count": null,
   "id": "c851352a-3671-4405-9ff0-5b2dc0e73a50",
   "metadata": {},
   "outputs": [],
   "source": []
  }
 ],
 "metadata": {
  "kernelspec": {
   "display_name": "Python 3 (ipykernel)",
   "language": "python",
   "name": "python3"
  },
  "language_info": {
   "codemirror_mode": {
    "name": "ipython",
    "version": 3
   },
   "file_extension": ".py",
   "mimetype": "text/x-python",
   "name": "python",
   "nbconvert_exporter": "python",
   "pygments_lexer": "ipython3",
   "version": "3.10.4"
  }
 },
 "nbformat": 4,
 "nbformat_minor": 5
}
